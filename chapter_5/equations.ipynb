{
 "cells": [
  {
   "cell_type": "markdown",
   "id": "dbbdbf24",
   "metadata": {},
   "source": [
    "$acceleration \\propto force$\n",
    "\n",
    "$a \\propto F$\n",
    "\n",
    "$acceleration \\propto \\frac{1}{mass}$\n",
    "\n",
    "$a \\propto \\frac{1}{m}$\n",
    "\n",
    "$a = \\frac{F}{m}$\n",
    "\n",
    "$F = ma$"
   ]
  },
  {
   "cell_type": "markdown",
   "id": "ed5f8da0",
   "metadata": {},
   "source": [
    "$v_{01} = \\frac{x_1 - x_0}{t_1 - t_0}$\n",
    "\n",
    "$v_{01} = \\frac{\\Delta x}{\\Delta t}$\n",
    "\n",
    "$\\Delta x = v_{01}\\Delta t$\n",
    "\n",
    "$x_1 = x_0 + v_{01}\\Delta t$"
   ]
  },
  {
   "cell_type": "markdown",
   "id": "7aeb613f",
   "metadata": {},
   "source": [
    "$k_{AB} = \\frac{1}{\\frac{1}{k_A} + \\frac{1}{k_B}}$\n",
    "\n",
    "$d_{AB} = \\sqrt{(x_A - x_B)^2 + (y_A - y_B)^2}$"
   ]
  },
  {
   "cell_type": "markdown",
   "id": "70f2c313",
   "metadata": {},
   "source": [
    "$d_{LR} = \\sqrt{(x_{left} - x_{right})^2 + (y_{left} - y_{right})^2}$\n",
    "\n",
    "$x_n = \\frac{y_{right} - y_{left}}{d_{LR}}$\n",
    "\n",
    "$y_n = \\frac{x_{left} - x_{right}}{d_{LR}}$\n",
    "\n",
    "$d = (x - x_{left}) x_n + (y - y_{left}) y_n $\n"
   ]
  },
  {
   "cell_type": "markdown",
   "id": "74f01b56",
   "metadata": {},
   "source": [
    "$T = 2 \\pi \\sqrt{\\frac{m}{k}}$\n",
    "\n",
    "$T = \\pi \\sqrt{\\frac{m}{k}}$"
   ]
  },
  {
   "cell_type": "code",
   "execution_count": null,
   "id": "794694a2",
   "metadata": {},
   "outputs": [],
   "source": []
  }
 ],
 "metadata": {
  "kernelspec": {
   "display_name": "Python 3 (ipykernel)",
   "language": "python",
   "name": "python3"
  },
  "language_info": {
   "codemirror_mode": {
    "name": "ipython",
    "version": 3
   },
   "file_extension": ".py",
   "mimetype": "text/x-python",
   "name": "python",
   "nbconvert_exporter": "python",
   "pygments_lexer": "ipython3",
   "version": "3.10.6"
  }
 },
 "nbformat": 4,
 "nbformat_minor": 5
}
