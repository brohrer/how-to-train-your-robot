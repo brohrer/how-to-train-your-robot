{
 "cells": [
  {
   "cell_type": "markdown",
   "id": "1a706935",
   "metadata": {},
   "source": [
    "$\\Delta x = x_{end} - x_{start}$"
   ]
  },
  {
   "cell_type": "markdown",
   "id": "5f968eb4",
   "metadata": {},
   "source": [
    "$x_{i, end} = x_{i,start} + \\Delta x$"
   ]
  },
  {
   "cell_type": "markdown",
   "id": "abdbc023",
   "metadata": {},
   "source": [
    "$y_{i, end} = y_{i,start} + \\Delta y$"
   ]
  },
  {
   "cell_type": "markdown",
   "id": "d45d59b2",
   "metadata": {},
   "source": [
    "$\n",
    "  \\left[ {\\begin{array}{c}\n",
    "    x_{i, end} \\\\\n",
    "    y_{i, end}\\\\\n",
    "  \\end{array} } \\right] =\n",
    "  \\left[ {\\begin{array}{c}\n",
    "    x_{i, start} \\\\\n",
    "    y_{i, start}\\\\\n",
    "  \\end{array} } \\right]  +\n",
    "  \\left[ {\\begin{array}{c}\n",
    "    \\Delta x\\\\\n",
    "    \\Delta y\\\\\n",
    "  \\end{array} } \\right]\n",
    "$"
   ]
  },
  {
   "cell_type": "markdown",
   "id": "7abc2a04",
   "metadata": {},
   "source": [
    "$\n",
    "  \\left[ {\\begin{array}{c}\n",
    "    x_{scaled} \\\\\n",
    "    y_{scaled}\\\\\n",
    "  \\end{array} } \\right] =\n",
    "  \\left[ {\\begin{array}{c}\n",
    "    x - x_{anchor} \\\\\n",
    "    y - y_{anchor}\\\\\n",
    "  \\end{array} } \\right]\n",
    "  \\times a\n",
    "  +\n",
    "  \\left[ {\\begin{array}{c}\n",
    "    x_{anchor} \\\\\n",
    "    y_{anchor}\\\\\n",
    "  \\end{array} } \\right]\n",
    "$"
   ]
  },
  {
   "cell_type": "markdown",
   "id": "66ebc027",
   "metadata": {},
   "source": [
    "$\n",
    "x_{new} = x_0 \\cos(\\theta)\\\\\n",
    "y_{new} = x_0 \\sin(\\theta)\n",
    "$"
   ]
  },
  {
   "cell_type": "markdown",
   "id": "bf1e3174",
   "metadata": {},
   "source": [
    "$\n",
    "x_{new} = -y_0 \\sin(\\theta)\\\\\n",
    "y_{new} = y_0 \\cos(\\theta)\n",
    "$"
   ]
  },
  {
   "cell_type": "markdown",
   "id": "c0d06cc9",
   "metadata": {},
   "source": [
    "$\n",
    "x_{new} = x_0 \\cos(\\theta) - y_0 \\sin(\\theta)\\\\\n",
    "y_{new} = x_0 \\sin(\\theta) + y_0 \\cos(\\theta)\n",
    "$"
   ]
  },
  {
   "cell_type": "markdown",
   "id": "fb6901c9",
   "metadata": {},
   "source": [
    "$\n",
    "  \\left[ {\\begin{array}{c}\n",
    "    x_{new} \\\\\n",
    "    y_{new}\n",
    "  \\end{array} } \\right] =\n",
    "  \\left[ {\\begin{array}{c c c}\n",
    "    x_0 \\cos(\\theta) & - & y_0 \\sin(\\theta) \\\\\n",
    "    x_0 \\sin(\\theta) & + & y_0 \\cos(\\theta)\n",
    "  \\end{array} } \\right]\n",
    "$"
   ]
  },
  {
   "cell_type": "markdown",
   "id": "0cb6d018",
   "metadata": {},
   "source": [
    "$\n",
    "  \\left[ {\\begin{array}{c}\n",
    "    x_{new} \\\\\n",
    "    y_{new}\n",
    "  \\end{array} } \\right] =\n",
    "  \\left[ {\\begin{array}{c c}\n",
    "    \\cos(\\theta) & -\\sin(\\theta) \\\\\n",
    "    \\sin(\\theta) & \\cos(\\theta)\n",
    "  \\end{array} } \\right]\n",
    "  \\left[ {\\begin{array}{c}\n",
    "    x_0 \\\\\n",
    "    y_0\\\\\n",
    "  \\end{array} } \\right]\n",
    "$"
   ]
  },
  {
   "cell_type": "markdown",
   "id": "62e9019a",
   "metadata": {},
   "source": [
    "$\n",
    "  \\left[ {\\begin{array}{c c}\n",
    "    x_{new} &\n",
    "    y_{new}\n",
    "  \\end{array} } \\right] =\n",
    "  \\left[ {\\begin{array}{c c}\n",
    "    x_0 &\n",
    "    y_0\n",
    "  \\end{array} } \\right]\n",
    "  \\left[ {\\begin{array}{c c}\n",
    "    \\cos(\\theta) & \\sin(\\theta) \\\\\n",
    "    -\\sin(\\theta) & \\cos(\\theta)\n",
    "  \\end{array} } \\right]\n",
    "$"
   ]
  },
  {
   "cell_type": "markdown",
   "id": "4ae5cbe5",
   "metadata": {},
   "source": [
    "$\n",
    "  \\left[ {\\begin{array}{c c}\n",
    "    x_{0 \\ new} & y_{0 \\ new} \\\\\n",
    "    x_{1 \\ new} & y_{1 \\ new} \\\\\n",
    "    x_{2 \\ new} & y_{2 \\ new} \\\\\n",
    "    x_{3 \\ new} & y_{3 \\ new} \\\\\n",
    "    x_{4 \\ new} & y_{4 \\ new} \\\\\n",
    "    x_{5 \\ new} & y_{5 \\ new} \\\\\n",
    "  \\end{array} } \\right] =\n",
    "  \\left[ {\\begin{array}{c c}\n",
    "    x_0 & y_0 \\\\\n",
    "    x_1 & y_1 \\\\\n",
    "    x_2 & y_2 \\\\\n",
    "    x_3 & y_3 \\\\\n",
    "    x_4 & y_4 \\\\\n",
    "    x_5 & y_5 \\\\\n",
    "  \\end{array} } \\right]\n",
    "  \\left[ {\\begin{array}{c c}\n",
    "    \\cos(\\theta) & \\sin(\\theta) \\\\\n",
    "    -\\sin(\\theta) & \\cos(\\theta)\n",
    "  \\end{array} } \\right]\n",
    "$"
   ]
  },
  {
   "cell_type": "markdown",
   "id": "20943054",
   "metadata": {},
   "source": [
    "$\n",
    "x(t) = x_i + (x_f - x_i)(\n",
    "10 (t/d)^3 - \n",
    "15 (t/d)^4 +\n",
    "6 (t/d)^5 )\n",
    "$"
   ]
  },
  {
   "cell_type": "markdown",
   "id": "5cea2c5f",
   "metadata": {},
   "source": [
    "$ progress(\\tau) = 10 (\\tau)^3 - 15 (\\tau)^4 + 6 (\\tau)^5 $"
   ]
  },
  {
   "cell_type": "markdown",
   "id": "dc6c71bb",
   "metadata": {},
   "source": [
    "$\n",
    "V_\\sigma = \\frac{P_1}{(t - P_2)(P_3 - t)}e^{\n",
    "-P_4 \\left [ \\ln\\left (\n",
    "\\frac{t - P_2}{P_3 - t}\n",
    "\\right )- P_5 \\right ] ^2}\n",
    "$"
   ]
  },
  {
   "cell_type": "markdown",
   "id": "45deb2b0",
   "metadata": {},
   "source": [
    "$\n",
    "v(\\tau) = \\frac{1}{\\tau (1 - \\tau)}e^{\n",
    "- \\frac{\n",
    "\\left( \\log \\left (\n",
    "\\frac{\\tau}{1 - \\tau}\n",
    "\\right )- \\mu \\right ) ^2}{2 \\sigma ^ 2}}\n",
    "$"
   ]
  },
  {
   "cell_type": "code",
   "execution_count": null,
   "id": "65d50a1f",
   "metadata": {},
   "outputs": [],
   "source": []
  }
 ],
 "metadata": {
  "kernelspec": {
   "display_name": "Python 3 (ipykernel)",
   "language": "python",
   "name": "python3"
  },
  "language_info": {
   "codemirror_mode": {
    "name": "ipython",
    "version": 3
   },
   "file_extension": ".py",
   "mimetype": "text/x-python",
   "name": "python",
   "nbconvert_exporter": "python",
   "pygments_lexer": "ipython3",
   "version": "3.8.10"
  }
 },
 "nbformat": 4,
 "nbformat_minor": 5
}
